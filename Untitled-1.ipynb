{
 "cells": [
  {
   "cell_type": "code",
   "execution_count": 1,
   "metadata": {},
   "outputs": [],
   "source": [
    "import numpy as np"
   ]
  },
  {
   "cell_type": "code",
   "execution_count": 8,
   "metadata": {},
   "outputs": [],
   "source": [
    "warpsize = 32\n",
    "num_threads = 128\n",
    "bn = 128\n",
    "bm = 128\n",
    "bk = 16\n",
    "wn = 64\n",
    "wm = 64\n",
    "wniter = 4\n",
    "wmiter = 1\n",
    "tn = 4\n",
    "tm = 8"
   ]
  },
  {
   "cell_type": "code",
   "execution_count": 9,
   "metadata": {},
   "outputs": [],
   "source": [
    "tid = np.arange(128)\n",
    "warp_idx = tid // warpsize\n",
    "warp_row = warp_idx // (bn // wn)\n",
    "warp_col = warp_idx % (bn // wn)"
   ]
  },
  {
   "cell_type": "code",
   "execution_count": 10,
   "metadata": {},
   "outputs": [],
   "source": [
    "wsubm = wm // wmiter\n",
    "wsubn = wn // wniter"
   ]
  },
  {
   "cell_type": "code",
   "execution_count": 11,
   "metadata": {},
   "outputs": [],
   "source": [
    "thread_idx_in_warp = tid % warpsize\n",
    "thread_row_in_warp = thread_idx_in_warp // (wsubn // tn)\n",
    "thread_col_in_warp = thread_idx_in_warp % (wsubn // tn)"
   ]
  },
  {
   "cell_type": "code",
   "execution_count": 31,
   "metadata": {},
   "outputs": [
    {
     "data": {
      "text/plain": [
       "array([ 0,  0,  0,  0,  8,  8,  8,  8, 16, 16, 16, 16, 24, 24, 24, 24, 32,\n",
       "       32, 32, 32, 40, 40, 40, 40, 48, 48, 48, 48, 56, 56, 56, 56])"
      ]
     },
     "execution_count": 31,
     "metadata": {},
     "output_type": "execute_result"
    }
   ],
   "source": [
    "(0 * bm) + warp_row[:32] * wm + 0 * wsubm + thread_row_in_warp[:32] * tm + 0"
   ]
  },
  {
   "cell_type": "code",
   "execution_count": 43,
   "metadata": {},
   "outputs": [
    {
     "data": {
      "text/plain": [
       "array([112, 116, 120, 124, 112, 116, 120, 124, 112, 116, 120, 124, 112,\n",
       "       116, 120, 124, 112, 116, 120, 124, 112, 116, 120, 124, 112, 116,\n",
       "       120, 124, 112, 116, 120, 124])"
      ]
     },
     "execution_count": 43,
     "metadata": {},
     "output_type": "execute_result"
    }
   ],
   "source": [
    "(0 * bn) + warp_col[96:128] * wn + 3 * wsubn + thread_col_in_warp[96:128] * tn + 0"
   ]
  },
  {
   "cell_type": "code",
   "execution_count": null,
   "metadata": {},
   "outputs": [],
   "source": []
  }
 ],
 "metadata": {
  "kernelspec": {
   "display_name": "Python 3",
   "language": "python",
   "name": "python3"
  },
  "language_info": {
   "codemirror_mode": {
    "name": "ipython",
    "version": 3
   },
   "file_extension": ".py",
   "mimetype": "text/x-python",
   "name": "python",
   "nbconvert_exporter": "python",
   "pygments_lexer": "ipython3",
   "version": "3.10.12"
  }
 },
 "nbformat": 4,
 "nbformat_minor": 2
}
